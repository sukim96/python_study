{
 "cells": [
  {
   "cell_type": "markdown",
   "id": "5dffa0de-5313-42f8-93e5-53b3e05daef6",
   "metadata": {},
   "source": [
    "# Yield From\n",
    "제너레이터가 생성한 값을 상위 제너레이터에 전달"
   ]
  },
  {
   "cell_type": "code",
   "execution_count": 1,
   "id": "7269d7b2-476a-4eba-a9f7-d476efd100f1",
   "metadata": {},
   "outputs": [],
   "source": [
    "def chain1(*iterables):\n",
    "    for it in iterables:\n",
    "        for i in it:\n",
    "            yield i\n",
    "\n",
    "def chain2(*iterables):\n",
    "    for it in iterables:\n",
    "        yield from it"
   ]
  },
  {
   "cell_type": "code",
   "execution_count": 2,
   "id": "64491583-070e-478a-b98b-bb731abb6de8",
   "metadata": {},
   "outputs": [
    {
     "name": "stdout",
     "output_type": "stream",
     "text": [
      "[1, 2, 3, 'A', 'B', 'C']\n",
      "[1, 2, 3, 'A', 'B', 'C']\n",
      "True\n"
     ]
    }
   ],
   "source": [
    "s = [1, 2, 3]\n",
    "t = ['A', 'B', 'C']\n",
    "l1 = list(chain1(s, t))\n",
    "l2 = list(chain2(s, t))\n",
    "\n",
    "print(l1)\n",
    "print(l2)\n",
    "print(l1 == l2)"
   ]
  },
  {
   "cell_type": "markdown",
   "id": "831bb417-30c7-49b3-bab0-f15ccef8e856",
   "metadata": {},
   "source": [
    "# 반복형의 리듀스 함수\n",
    "- `all(it)`: 모두 참이면 True\n",
    "- `any(it)`: 하나라도 참이면 True\n",
    "- `max(it, [key], [default])`: 최대값 반환 (key는 무얼 기준으로 찾을지 결정(sorted처럼), default는 it가 비어있으면 반환)\n",
    "- `min(it, [key], [default])`: 최소값 반환\n",
    "- `functools.reduce(func, it, [initial])`: 순차적으로 reduce 실행\n",
    "- `sum(it, start=0)`: 총합 반환"
   ]
  },
  {
   "cell_type": "code",
   "execution_count": 3,
   "id": "43b0bb9d-cf49-4e00-80f7-f69f30fb96e8",
   "metadata": {},
   "outputs": [
    {
     "name": "stdout",
     "output_type": "stream",
     "text": [
      "90\n"
     ]
    }
   ],
   "source": [
    "from functools import reduce\n",
    "s = [{'name': \"a\", 'age': 29}, {'name': \"b\", 'age': 30}, {'name': \"c\", 'age': 31}]\n",
    "p = reduce(lambda x, y: x + y['age'], iter(s), 0)\n",
    "print(p)"
   ]
  },
  {
   "cell_type": "markdown",
   "id": "290cb918-0ef5-459f-8ff6-187d5b181870",
   "metadata": {},
   "source": [
    "# iter() 함수 들여다보기\n",
    "\n",
    "iter() 함수는 두 가지 인수를 받을 수 있다.  \n",
    "`iter(iterable, sentinel=None)`\n",
    "\n",
    "sentinel 값을 설정해주게 되면, iteration을 진행하다가 sentinel이 나오면 StopIteration 을 반환한다. (= 멈춘다)"
   ]
  },
  {
   "cell_type": "code",
   "execution_count": 4,
   "id": "0f00729e-1c5e-4cc2-93b4-d1d1e0e87801",
   "metadata": {},
   "outputs": [
    {
     "name": "stdout",
     "output_type": "stream",
     "text": [
      "2\n",
      "5\n",
      "4\n",
      "5\n",
      "4\n",
      "2\n",
      "4\n",
      "4\n",
      "6\n",
      "6\n",
      "6\n",
      "5\n",
      "2\n",
      "3\n",
      "4\n",
      "3\n",
      "5\n",
      "6\n",
      "4\n",
      "5\n",
      "4\n"
     ]
    }
   ],
   "source": [
    "from random import randint\n",
    "def d6():\n",
    "    return randint(1, 6)\n",
    "\n",
    "d6_iter = iter(d6, 1) # 1이 나오면 종료\n",
    "for roll in d6_iter:\n",
    "    print(roll)"
   ]
  },
  {
   "cell_type": "markdown",
   "id": "d70e8c86-e049-416a-a7d2-c54ac60173c5",
   "metadata": {},
   "source": [
    "이것을 이용해서 파일 읽기를 효율적으로 구현할 수 있다."
   ]
  },
  {
   "cell_type": "code",
   "execution_count": 5,
   "id": "f709ec57-2f9a-412b-804b-d680e74330b7",
   "metadata": {},
   "outputs": [
    {
     "name": "stdout",
     "output_type": "stream",
     "text": [
      "안녕하세요!\n",
      "반가워요!\n",
      "안녕히 계세요!\n"
     ]
    }
   ],
   "source": [
    "def read_file(filename):\n",
    "    with open(filename) as f:\n",
    "        for line in iter(f.readline, ''):\n",
    "            print(line.strip())\n",
    "\n",
    "read_file(\"test1.txt\")"
   ]
  },
  {
   "cell_type": "code",
   "execution_count": 6,
   "id": "00ca8d13-b8ee-4afc-af96-8cba3037205a",
   "metadata": {},
   "outputs": [
    {
     "name": "stdout",
     "output_type": "stream",
     "text": [
      "안녕하세요!\n",
      "반가워요!\n",
      "\n",
      "안녕히 계세요!\n"
     ]
    }
   ],
   "source": [
    "# 빈 줄은 안 된다...? (빈 줄은 readline 하면 '\\n' 으로 읽히기 때문인 듯 하다.)\n",
    "read_file(\"test2.txt\")"
   ]
  },
  {
   "cell_type": "markdown",
   "id": "f8810205-b416-4c3a-9f4a-161e5cc9c006",
   "metadata": {},
   "source": [
    "# Coroutine?\n",
    "- yield를 사용하면 제너레이터가 생성된다. (python 2.2 부터 지원)\n",
    "    - PEP 342 (python 2.5) 부터 이것을 'coroutine'으로도 사용할 수 있다. (16장)\n",
    "- yield는 값을 지정하지 않고도 만들 수 있다.\n",
    "    - next() 함수를 통해 이 값에 접근하면 None을 반환한다. (: generator)\n",
    "    - 여기에 send() 함수를 통해 값을 전달할 수 있다.       (: coroutine)"
   ]
  },
  {
   "cell_type": "code",
   "execution_count": 7,
   "id": "e5dbfb3d-b268-431f-bd99-5dd15324a02e",
   "metadata": {},
   "outputs": [
    {
     "data": {
      "text/plain": [
       "<generator object simple_coroutine at 0x7f84b9db3f90>"
      ]
     },
     "execution_count": 7,
     "metadata": {},
     "output_type": "execute_result"
    }
   ],
   "source": [
    "def simple_coroutine():\n",
    "    print('-> coroutine started')\n",
    "    x = yield\n",
    "    print('-> coroutine received:', x)\n",
    "\n",
    "my_coro = simple_coroutine()\n",
    "my_coro"
   ]
  },
  {
   "cell_type": "code",
   "execution_count": 8,
   "id": "35c7082e-0ca2-4405-8656-a11d68409d4b",
   "metadata": {},
   "outputs": [
    {
     "name": "stdout",
     "output_type": "stream",
     "text": [
      "-> coroutine started\n",
      "None\n"
     ]
    }
   ],
   "source": [
    "print(next(my_coro))"
   ]
  },
  {
   "cell_type": "code",
   "execution_count": 9,
   "id": "a0c9f3c8-7bc7-45de-9653-43dad1085c7b",
   "metadata": {},
   "outputs": [
    {
     "name": "stdout",
     "output_type": "stream",
     "text": [
      "-> coroutine received: 42\n"
     ]
    },
    {
     "ename": "StopIteration",
     "evalue": "",
     "output_type": "error",
     "traceback": [
      "\u001b[0;31m---------------------------------------------------------------------------\u001b[0m",
      "\u001b[0;31mStopIteration\u001b[0m                             Traceback (most recent call last)",
      "Input \u001b[0;32mIn [9]\u001b[0m, in \u001b[0;36m<cell line: 1>\u001b[0;34m()\u001b[0m\n\u001b[0;32m----> 1\u001b[0m \u001b[43mmy_coro\u001b[49m\u001b[38;5;241;43m.\u001b[39;49m\u001b[43msend\u001b[49m\u001b[43m(\u001b[49m\u001b[38;5;241;43m42\u001b[39;49m\u001b[43m)\u001b[49m\n",
      "\u001b[0;31mStopIteration\u001b[0m: "
     ]
    }
   ],
   "source": [
    "my_coro.send(42)"
   ]
  },
  {
   "cell_type": "code",
   "execution_count": null,
   "id": "b7f54b79-9c74-4fa6-b03d-4462a23bc496",
   "metadata": {},
   "outputs": [],
   "source": []
  }
 ],
 "metadata": {
  "kernelspec": {
   "display_name": "Python 3 (ipykernel)",
   "language": "python",
   "name": "python3"
  },
  "language_info": {
   "codemirror_mode": {
    "name": "ipython",
    "version": 3
   },
   "file_extension": ".py",
   "mimetype": "text/x-python",
   "name": "python",
   "nbconvert_exporter": "python",
   "pygments_lexer": "ipython3",
   "version": "3.8.13"
  }
 },
 "nbformat": 4,
 "nbformat_minor": 5
}
