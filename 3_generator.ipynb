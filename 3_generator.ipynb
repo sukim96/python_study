{
 "cells": [
  {
   "cell_type": "markdown",
   "id": "f362fbcb-f1e5-4c3e-9a00-0f75314e07ea",
   "metadata": {},
   "source": [
    "# Generator\n",
    "\n",
    "yield 키워드를 가진 모든 함수를 제너레이터 함수 라고 한다.  \n",
    "제너레이터 함수는 호출하면 generator 객체를 반환한다.\n",
    "\n",
    "이후 이 제너레이터 함수에서 iteration을 호출하면 yield가 호출되는 형식이다."
   ]
  },
  {
   "cell_type": "code",
   "execution_count": 1,
   "id": "ea777648-e96b-44a9-ba5c-3719fe1472e6",
   "metadata": {},
   "outputs": [
    {
     "name": "stdout",
     "output_type": "stream",
     "text": [
      "<generator object gen_123 at 0x7f863e7d1ba0>\n",
      "\n",
      "Hello\n",
      "1\n",
      "From\n",
      "2\n",
      "The\n",
      "3\n",
      "Outside\n",
      "\n",
      "Hello\n",
      "From\n",
      "The\n",
      "Outside\n",
      "[1, 2, 3]\n",
      "\n",
      "Hello\n",
      "1\n",
      "From\n",
      "2\n",
      "The\n",
      "3\n",
      "-------\n",
      "Outside\n"
     ]
    },
    {
     "ename": "StopIteration",
     "evalue": "",
     "output_type": "error",
     "traceback": [
      "\u001b[0;31m---------------------------------------------------------------------------\u001b[0m",
      "\u001b[0;31mStopIteration\u001b[0m                             Traceback (most recent call last)",
      "Input \u001b[0;32mIn [1]\u001b[0m, in \u001b[0;36m<cell line: 27>\u001b[0;34m()\u001b[0m\n\u001b[1;32m     25\u001b[0m \u001b[38;5;28mprint\u001b[39m(\u001b[38;5;28mnext\u001b[39m(g))\n\u001b[1;32m     26\u001b[0m \u001b[38;5;28mprint\u001b[39m(\u001b[38;5;124m\"\u001b[39m\u001b[38;5;124m-------\u001b[39m\u001b[38;5;124m\"\u001b[39m)\n\u001b[0;32m---> 27\u001b[0m \u001b[38;5;28mprint\u001b[39m(\u001b[38;5;28;43mnext\u001b[39;49m\u001b[43m(\u001b[49m\u001b[43mg\u001b[49m\u001b[43m)\u001b[49m)\n",
      "\u001b[0;31mStopIteration\u001b[0m: "
     ]
    }
   ],
   "source": [
    "def gen_123():\n",
    "    print(\"Hello\")\n",
    "    yield 1\n",
    "    print(\"From\")\n",
    "    yield 2\n",
    "    print(\"The\")\n",
    "    yield 3\n",
    "    print(\"Outside\")\n",
    "\n",
    "print(gen_123())\n",
    "print()\n",
    "\n",
    "for i in gen_123():\n",
    "    print(i)\n",
    "\n",
    "print()\n",
    "\n",
    "# 제너레이터 표현식도 생성 가능!\n",
    "print([i for i in gen_123()])\n",
    "print()\n",
    "\n",
    "g = gen_123()\n",
    "print(next(g))\n",
    "print(next(g))\n",
    "print(next(g))\n",
    "print(\"-------\")\n",
    "print(next(g))"
   ]
  },
  {
   "cell_type": "markdown",
   "id": "503304a5-481d-42c1-b7f8-925f4d9de950",
   "metadata": {},
   "source": [
    "(이런 식으로 generator를 iterator처럼 쓸 수 있어서, 파이썬 커뮤니티들은 제너레이터와 반복자를 구분하지 않는다고 한다.)\n",
    "\n",
    "generator를 활용한 iterator는 다음과 같이 구현할 수 있다."
   ]
  },
  {
   "cell_type": "code",
   "execution_count": 2,
   "id": "ed9ed5c6-58a6-4139-ba48-2c6e02009d29",
   "metadata": {},
   "outputs": [],
   "source": [
    "import re\n",
    "import reprlib\n",
    "\n",
    "RE_WORD = re.compile('\\w+')\n",
    "\n",
    "class Sentence:\n",
    "    def __init__(self, text):\n",
    "        self.text = text\n",
    "        self.words = RE_WORD.findall(text)\n",
    "    \n",
    "    def __repr__(self):\n",
    "        return f'Sentence {reprlib.repr(self.text)}'\n",
    "    \n",
    "    def __iter__(self):\n",
    "        for word in self.words:\n",
    "            yield word\n",
    "        return"
   ]
  },
  {
   "cell_type": "code",
   "execution_count": 3,
   "id": "a11b1e7d-abba-420d-9f68-cf84a1249cf6",
   "metadata": {},
   "outputs": [
    {
     "name": "stdout",
     "output_type": "stream",
     "text": [
      "Hello\n",
      "from\n",
      "the\n",
      "outside\n"
     ]
    },
    {
     "ename": "StopIteration",
     "evalue": "",
     "output_type": "error",
     "traceback": [
      "\u001b[0;31m---------------------------------------------------------------------------\u001b[0m",
      "\u001b[0;31mStopIteration\u001b[0m                             Traceback (most recent call last)",
      "Input \u001b[0;32mIn [3]\u001b[0m, in \u001b[0;36m<cell line: 7>\u001b[0;34m()\u001b[0m\n\u001b[1;32m      5\u001b[0m \u001b[38;5;28mprint\u001b[39m(\u001b[38;5;28mnext\u001b[39m(it))\n\u001b[1;32m      6\u001b[0m \u001b[38;5;28mprint\u001b[39m(\u001b[38;5;28mnext\u001b[39m(it))\n\u001b[0;32m----> 7\u001b[0m \u001b[38;5;28mprint\u001b[39m(\u001b[38;5;28;43mnext\u001b[39;49m\u001b[43m(\u001b[49m\u001b[43mit\u001b[49m\u001b[43m)\u001b[49m)\n",
      "\u001b[0;31mStopIteration\u001b[0m: "
     ]
    }
   ],
   "source": [
    "s = Sentence(\"Hello from the outside!\")\n",
    "it = iter(s)\n",
    "print(next(it))\n",
    "print(next(it))\n",
    "print(next(it))\n",
    "print(next(it))\n",
    "print(next(it))"
   ]
  },
  {
   "cell_type": "markdown",
   "id": "5a7142ca-dae6-4fab-9b5e-6e08e669f77e",
   "metadata": {},
   "source": [
    "## Lazy Evaluation (느긋한 구현?)\n",
    "파이썬의 iteration은 lazy evaluation 또한 구현 가능하다.  \n",
    "lazy evaluation: 실제로 값이 반환되는 시점에 값을 생성하는 기법\n",
    "\n",
    "ex) 아래의 예시에서는 iterator가 해당 index의 값을 생성하는 순간에서야 RE_WORD의 해당 index가 파싱됨"
   ]
  },
  {
   "cell_type": "code",
   "execution_count": 4,
   "id": "7b3aa3a9-f304-4abe-811e-b1f88822f843",
   "metadata": {},
   "outputs": [],
   "source": [
    "import re\n",
    "import reprlib\n",
    "\n",
    "RE_WORD = re.compile('\\w+')\n",
    "\n",
    "class Sentence:\n",
    "    def __init__(self, text):\n",
    "        self.text = text\n",
    "        # self.words = RE_WORD.findall(text)\n",
    "    \n",
    "    def __repr__(self):\n",
    "        return f'Sentence {reprlib.repr(self.text)}'\n",
    "    \n",
    "    def __iter__(self):\n",
    "        for match in RE_WORD.finditer(self.text):  # MatchObject 생성 (매칭되는 단어들의 iterator)\n",
    "            yield match.group()               # MatchObject 객체에 매칭되는 텍스트 추출"
   ]
  },
  {
   "cell_type": "code",
   "execution_count": 5,
   "id": "a6532530-f992-42d8-96fa-f2253f866a54",
   "metadata": {},
   "outputs": [
    {
     "name": "stdout",
     "output_type": "stream",
     "text": [
      "Hello\n",
      "from\n",
      "the\n",
      "outside\n"
     ]
    },
    {
     "ename": "StopIteration",
     "evalue": "",
     "output_type": "error",
     "traceback": [
      "\u001b[0;31m---------------------------------------------------------------------------\u001b[0m",
      "\u001b[0;31mStopIteration\u001b[0m                             Traceback (most recent call last)",
      "Input \u001b[0;32mIn [5]\u001b[0m, in \u001b[0;36m<cell line: 7>\u001b[0;34m()\u001b[0m\n\u001b[1;32m      5\u001b[0m \u001b[38;5;28mprint\u001b[39m(\u001b[38;5;28mnext\u001b[39m(it))\n\u001b[1;32m      6\u001b[0m \u001b[38;5;28mprint\u001b[39m(\u001b[38;5;28mnext\u001b[39m(it))\n\u001b[0;32m----> 7\u001b[0m \u001b[38;5;28mprint\u001b[39m(\u001b[38;5;28;43mnext\u001b[39;49m\u001b[43m(\u001b[49m\u001b[43mit\u001b[49m\u001b[43m)\u001b[49m)\n",
      "\u001b[0;31mStopIteration\u001b[0m: "
     ]
    }
   ],
   "source": [
    "s = Sentence(\"Hello from the outside!\")\n",
    "it = iter(s)\n",
    "print(next(it))\n",
    "print(next(it))\n",
    "print(next(it))\n",
    "print(next(it))\n",
    "print(next(it))"
   ]
  },
  {
   "cell_type": "code",
   "execution_count": null,
   "id": "20547214-7164-4ec3-a682-a6564f2221ce",
   "metadata": {},
   "outputs": [],
   "source": []
  }
 ],
 "metadata": {
  "kernelspec": {
   "display_name": "Python 3 (ipykernel)",
   "language": "python",
   "name": "python3"
  },
  "language_info": {
   "codemirror_mode": {
    "name": "ipython",
    "version": 3
   },
   "file_extension": ".py",
   "mimetype": "text/x-python",
   "name": "python",
   "nbconvert_exporter": "python",
   "pygments_lexer": "ipython3",
   "version": "3.8.13"
  }
 },
 "nbformat": 4,
 "nbformat_minor": 5
}
