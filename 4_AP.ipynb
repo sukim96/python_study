{
 "cells": [
  {
   "cell_type": "markdown",
   "id": "960c0be1-9e22-494c-b5c8-7c657b838c74",
   "metadata": {},
   "source": [
    "# Arithmetic Progression (등차수열)\n",
    "generator를 사용해 등차수열을 구현해 보자."
   ]
  },
  {
   "cell_type": "code",
   "execution_count": 1,
   "id": "de647d6c-b478-4241-b5a3-6bc165dc19df",
   "metadata": {},
   "outputs": [],
   "source": [
    "class ArithmeticProgression:\n",
    "    def __init__(self, begin, step, end=None):\n",
    "        self.begin = begin\n",
    "        self.step = step\n",
    "        self.end = end       # None이면 무한등차수열\n",
    "    \n",
    "    def __iter__(self):\n",
    "        # 일단 result에 begin을 할당\n",
    "        result = type(self.begin + self.step)(self.begin)\n",
    "        \n",
    "        # end가 None이면 끝나지 않도록 설정\n",
    "        forever = self.end is None\n",
    "        \n",
    "        index = 0\n",
    "        while forever or result < self.end:\n",
    "            yield result                              # 0일 때 (첫번째): begin 생성\n",
    "            index += 1                                # index 한칸 이동\n",
    "            result = self.begin + self.step * index   # 1"
   ]
  },
  {
   "cell_type": "code",
   "execution_count": 2,
   "id": "af63fda0-0fb5-4675-8540-3424c0268de1",
   "metadata": {},
   "outputs": [
    {
     "name": "stdout",
     "output_type": "stream",
     "text": [
      "[0, 1, 2]\n",
      "[1.0, 1.5, 2.0, 2.5]\n",
      "[0.0, 0.3333333333333333, 0.6666666666666666]\n",
      "[Fraction(0, 1), Fraction(1, 3), Fraction(2, 3)]\n",
      "[Decimal('0'), Decimal('0.1'), Decimal('0.2')]\n"
     ]
    }
   ],
   "source": [
    "# 사용 예시\n",
    "ap = ArithmeticProgression(0, 1, 3)\n",
    "print(list(ap))\n",
    "ap = ArithmeticProgression(1, .5, 3)\n",
    "print(list(ap))\n",
    "ap = ArithmeticProgression(0, 1/3, 1)\n",
    "print(list(ap))\n",
    "\n",
    "from fractions import Fraction\n",
    "ap = ArithmeticProgression(0, Fraction(1, 3), 1)\n",
    "print(list(ap))\n",
    "\n",
    "from decimal import Decimal\n",
    "ap = ArithmeticProgression(0, Decimal('.1'), .3)\n",
    "print(list(ap))"
   ]
  },
  {
   "cell_type": "markdown",
   "id": "d79bcd36-db55-43ad-ae9d-5e17e4405d20",
   "metadata": {},
   "source": [
    "## Advanced: Fibonacci Sequence\n",
    "똑같은 원리로 피보나치도 구현할 수 있지 않을까?"
   ]
  },
  {
   "cell_type": "code",
   "execution_count": 3,
   "id": "3434f811-9f6c-4e32-9b44-eaa7f67c08cb",
   "metadata": {},
   "outputs": [],
   "source": [
    "class FibonacciSequence:\n",
    "    def __init__(self, end=None):\n",
    "        self.end = end\n",
    "    \n",
    "    def __iter__(self):\n",
    "        forever = self.end is None\n",
    "        index = 0\n",
    "        \n",
    "        # initial values\n",
    "        prev = 0\n",
    "        current = 1\n",
    "        \n",
    "        while forever or index < self.end:\n",
    "            yield current\n",
    "            next = prev + current\n",
    "            prev = current\n",
    "            current = next\n",
    "            index += 1"
   ]
  },
  {
   "cell_type": "code",
   "execution_count": 4,
   "id": "2c8d5c02-fc62-4ef1-8d9d-1e2e945b08e0",
   "metadata": {},
   "outputs": [
    {
     "name": "stdout",
     "output_type": "stream",
     "text": [
      "[1, 1, 2, 3, 5, 8, 13, 21, 34, 55]\n",
      "1\n",
      "1\n",
      "2\n",
      "3\n",
      "5\n",
      "8\n",
      "13\n",
      "21\n",
      "34\n",
      "55\n"
     ]
    }
   ],
   "source": [
    "fib = FibonacciSequence(10)\n",
    "print(list(fib))\n",
    "\n",
    "fib = FibonacciSequence()\n",
    "it = iter(fib)\n",
    "for i in range(10):\n",
    "    print(next(it))"
   ]
  },
  {
   "cell_type": "code",
   "execution_count": null,
   "id": "5108a2a9-032b-46b5-bdbe-332f78960b78",
   "metadata": {},
   "outputs": [],
   "source": []
  }
 ],
 "metadata": {
  "kernelspec": {
   "display_name": "Python 3 (ipykernel)",
   "language": "python",
   "name": "python3"
  },
  "language_info": {
   "codemirror_mode": {
    "name": "ipython",
    "version": 3
   },
   "file_extension": ".py",
   "mimetype": "text/x-python",
   "name": "python",
   "nbconvert_exporter": "python",
   "pygments_lexer": "ipython3",
   "version": "3.8.13"
  }
 },
 "nbformat": 4,
 "nbformat_minor": 5
}
