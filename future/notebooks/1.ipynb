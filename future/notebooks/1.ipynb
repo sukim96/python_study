{
 "cells": [
  {
   "cell_type": "markdown",
   "id": "8083c917-63d5-4b35-b2ec-b0899ecd8987",
   "metadata": {},
   "source": [
    "# Future를 이용한 동시성\n",
    "아래는 각 나라의 국기를 순차적으로 다운로드받는 스크립트다.  "
   ]
  },
  {
   "cell_type": "code",
   "execution_count": 1,
   "id": "b8e74c86-0759-42e4-9241-933c4e318e51",
   "metadata": {},
   "outputs": [],
   "source": [
    "import os\n",
    "import time\n",
    "import sys\n",
    "\n",
    "import requests\n",
    "\n",
    "POP20_CC = ('CN IN US ID BR PK NG BD RU JP '\n",
    "            'MX PH VN ET EG DE IR TR CD FR').split()\n",
    "\n",
    "# BASE_URL = 'http://flupy.org/data/flags'  # using remote (not working well)\n",
    "# BASE_URL = \"http://nginx:8001/flags\"  # using local\n",
    "BASE_URL = \"http://vaurien_delay:8002/flags\"  # using local delayed\n",
    "# BASE_URL = \"http://vaurien_error_delay:8003/flags\" # using local error\n",
    "\n",
    "DEST_DIR = 'downloads/'\n",
    "\n",
    "def save_flag(img, filename):\n",
    "    path = os.path.join(DEST_DIR, filename)\n",
    "    with open(path, 'wb') as fp:\n",
    "        fp.write(img)\n",
    "\n",
    "\n",
    "def get_flag(cc):\n",
    "    url = '{}/{cc}/{cc}.gif'.format(BASE_URL, cc=cc.lower())\n",
    "    resp = requests.get(url)\n",
    "    return resp.content\n",
    "\n",
    "\n",
    "def show(text):\n",
    "    print(text, end=' ')\n",
    "    sys.stdout.flush()\n",
    "\n",
    "\n",
    "def download_one(cc):\n",
    "    image = get_flag(cc)\n",
    "    show(cc)\n",
    "    save_flag(image, cc.lower() + '.gif')\n",
    "    return cc\n",
    "\n",
    "\n",
    "def download_many(cc_list):\n",
    "    for cc in sorted(cc_list):\n",
    "        download_one(cc)\n",
    "        # image = get_flag(cc)\n",
    "        # show(cc)\n",
    "        # save_flag(image, cc.lower() + '.gif')\n",
    "\n",
    "    return len(cc_list)\n",
    "\n",
    "\n",
    "def main(download_many):\n",
    "    os.makedirs(DEST_DIR, exist_ok=True)\n",
    "    t0 = time.time()\n",
    "    count = download_many(POP20_CC)\n",
    "    elapsed = time.time() - t0\n",
    "    msg = '\\n{} flags downloaded in {:.2f}s'\n",
    "    print(msg.format(count, elapsed))"
   ]
  },
  {
   "cell_type": "code",
   "execution_count": 2,
   "id": "357bcc33-c124-4193-9a74-3f77eb717626",
   "metadata": {},
   "outputs": [
    {
     "name": "stdout",
     "output_type": "stream",
     "text": [
      "BD BR CD CN DE EG ET FR ID IN IR JP MX NG PH PK RU TR US VN \n",
      "20 flags downloaded in 20.25s\n"
     ]
    }
   ],
   "source": [
    "main(download_many)"
   ]
  },
  {
   "cell_type": "markdown",
   "id": "0baf4959-9e84-468b-84d7-37bd08780b09",
   "metadata": {},
   "source": [
    "## Multi-Threading\n",
    "이제 futures의 `ThreadPoolExecutor`를 사용하여 다운로드하자.  \n",
    "- `workers`: thread 수\n",
    "- `executor.map`을 통해 download_one을 multi-thread로 실행"
   ]
  },
  {
   "cell_type": "code",
   "execution_count": 3,
   "id": "4d9c7f56-c612-4523-81b5-b2c8611d6298",
   "metadata": {},
   "outputs": [],
   "source": [
    "from concurrent import futures\n",
    "\n",
    "MAX_WORKERS = 20\n",
    "\n",
    "\n",
    "def download_many(cc_list):\n",
    "    workers = min(MAX_WORKERS, len(cc_list))\n",
    "    with futures.ThreadPoolExecutor(workers) as executor:\n",
    "        res = executor.map(download_one, sorted(cc_list))\n",
    "        \n",
    "    print()\n",
    "    print(list(res))\n",
    "    return len(list(res))\n"
   ]
  },
  {
   "cell_type": "code",
   "execution_count": 4,
   "id": "f64f4efd-1297-48bf-9c8d-36f5a08aa85e",
   "metadata": {},
   "outputs": [
    {
     "name": "stdout",
     "output_type": "stream",
     "text": [
      "BD BR CD CN DE EG ET ID FRIN IR  JPMX  PH RU TR PK NG VN US \n",
      "['BD', 'BR', 'CD', 'CN', 'DE', 'EG', 'ET', 'FR', 'ID', 'IN', 'IR', 'JP', 'MX', 'NG', 'PH', 'PK', 'RU', 'TR', 'US', 'VN']\n",
      "\n",
      "0 flags downloaded in 1.11s\n"
     ]
    }
   ],
   "source": [
    "main(download_many)"
   ]
  },
  {
   "cell_type": "markdown",
   "id": "2623fc70-b8de-423f-849e-576591984086",
   "metadata": {},
   "source": [
    "위의 스크립트는 Future를 사용하였지만 직접 건드리지 않았다.  \n",
    "'Future'는 concurrent.futures와 asyncio에 내장된 컴포넌트이다.  \n",
    "대기 중인 작업을 큐에 넣고, 완료 상태를 조사하고, 결과를 가져올 수 있도록 캡슐화한다.  \n",
    "  \n",
    "Future는 직접 생성하지 않는 것이 일반적이다. (concurrent.futures나 asyncio에서 배타적으로 생성)  \n",
    "Future 클래스 내부에는 다음과 같은 method가 있다.  \n",
    "- `done()`: Non-blocking, callable이 완료되었는지 여부 반환 (boolean)  \n",
    "- `add_done_callback()`: future 객체 작업이 완료되면 callback 함수가 future를 인수로 받아 호출됨  "
   ]
  },
  {
   "cell_type": "markdown",
   "id": "681158ab-e6b3-417a-9cfe-c239fe9b5564",
   "metadata": {},
   "source": [
    "Future 클래스 내부를 보기 위해 다음 구조로 download_many를 대체해 보자.  \n",
    "- `Executor.submit()`: 콜러블이 실행되도록 스케줄링 & Future 클래스 반환  \n",
    "- `future.as_completed()`: Future 객체를 담은 반복형을 인수로 받아서, 완료된 Future 객체를 생성하는 반복자 반환  "
   ]
  },
  {
   "cell_type": "code",
   "execution_count": 5,
   "id": "d37571a4-8ebe-46b9-993d-66db54088d50",
   "metadata": {},
   "outputs": [],
   "source": [
    "def download_many(cc_list):\n",
    "    cc_list = cc_list[:5]  # <1>\n",
    "    with futures.ThreadPoolExecutor(max_workers=3) as executor:  # <2>\n",
    "        to_do = []\n",
    "        for cc in sorted(cc_list):  # <3>\n",
    "            future = executor.submit(download_one, cc)  # <4>\n",
    "            to_do.append(future)  # <5>\n",
    "            msg = 'Scheduled for {}: {}'\n",
    "            print(msg.format(cc, future))  # <6>\n",
    "\n",
    "        results = []\n",
    "        for future in futures.as_completed(to_do):  # <7>\n",
    "            res = future.result()  # <8>\n",
    "            msg = '{} result: {!r}'\n",
    "            print(msg.format(future, res)) # <9>\n",
    "            results.append(res)\n",
    "\n",
    "    return len(results)"
   ]
  },
  {
   "cell_type": "code",
   "execution_count": 6,
   "id": "20b81bf8-6c14-496e-ae94-923326835d63",
   "metadata": {},
   "outputs": [
    {
     "name": "stdout",
     "output_type": "stream",
     "text": [
      "Scheduled for BR: <Future at 0x7fb09852da50 state=running>\n",
      "Scheduled for CN: <Future at 0x7fb09852d060 state=running>\n",
      "Scheduled for ID: <Future at 0x7fb09852dfc0 state=running>\n",
      "Scheduled for IN: <Future at 0x7fb09852f1c0 state=pending>\n",
      "Scheduled for US: <Future at 0x7fb09852ee00 state=pending>\n",
      "CN ID BR <Future at 0x7fb09852d060 state=finished returned str> result: 'CN'\n",
      "<Future at 0x7fb09852dfc0 state=finished returned str> result: 'ID'\n",
      "<Future at 0x7fb09852da50 state=finished returned str> result: 'BR'\n",
      "IN <Future at 0x7fb09852f1c0 state=finished returned str> result: 'IN'\n",
      "US <Future at 0x7fb09852ee00 state=finished returned str> result: 'US'\n",
      "\n",
      "5 flags downloaded in 2.05s\n"
     ]
    }
   ],
   "source": [
    "main(download_many)"
   ]
  },
  {
   "cell_type": "markdown",
   "id": "add72f3c-6aa1-419a-ad74-4d4171d302dc",
   "metadata": {},
   "source": [
    "위의 작업들은 multi-threading을 사용해 구현되어 있다.  \n",
    "CPython 인터프리터는 'GIL(Global Interpreter Lock)'을 가지고 있어서, 한 번에 한 쓰레드만 실행 가능하다.  \n",
    "그렇지만 Blocking I/O를 실행할 때는 GIL을 해제하기 때문에, 위와 같이 네트워크로부터 응답을 기다리는 동안에 다른 쓰레드가 실행될 수 있다."
   ]
  },
  {
   "cell_type": "markdown",
   "id": "1f723add-0828-4dc4-8e72-b68eec65f601",
   "metadata": {},
   "source": [
    "## Multi-Processing\n",
    "ThreadPoolExecutor 대신 ProcessPoolExecutor를 사용하면 multi-processing으로 구현할 수 있다.  \n",
    "- CPU 코어 수보다 많은 프로세스를 실행하면 multi-threading에 비해 효율이 떨어질 수 있다.\n",
    "- 계산 위주의 작업에서 높은 성능을 보인다."
   ]
  },
  {
   "cell_type": "code",
   "execution_count": 7,
   "id": "956b2c2c-9fd1-43ad-baa0-07267c0afbac",
   "metadata": {},
   "outputs": [],
   "source": [
    "def download_many(cc_list):\n",
    "    workers = min(MAX_WORKERS, len(cc_list))\n",
    "    with futures.ProcessPoolExecutor(workers) as executor:\n",
    "        res = executor.map(download_one, sorted(cc_list))\n",
    "\n",
    "    return len(list(res))"
   ]
  },
  {
   "cell_type": "code",
   "execution_count": 8,
   "id": "9af49868-d945-4624-b4f9-02f357761a6a",
   "metadata": {},
   "outputs": [
    {
     "name": "stdout",
     "output_type": "stream",
     "text": [
      "BD BR CD CN DE EG ET FR ID IN IR JP MX NG PH PK RU TR US VN \n",
      "20 flags downloaded in 1.25s\n"
     ]
    }
   ],
   "source": [
    "main(download_many)"
   ]
  },
  {
   "cell_type": "markdown",
   "id": "0eaa28a4-a6c5-4a63-bfce-e0505bd09ae5",
   "metadata": {},
   "source": [
    "## [Executor.map()] vs [Executor.submit() + future.as_completed()]\n",
    "- `Executor.map()`은 결과를 순차적으로 반환한다.\n",
    "    - 2번째, 3번째 작업이 끝나도 1번째부터 결과를 반환\n",
    "- `Executor.submit()` + `future.as_completed()` 방식을 사용하면 결과를 완료 즉시 반환한다."
   ]
  },
  {
   "cell_type": "code",
   "execution_count": null,
   "id": "231c8e05-2d2f-4fea-ae7c-6612bada1f26",
   "metadata": {},
   "outputs": [],
   "source": []
  }
 ],
 "metadata": {
  "kernelspec": {
   "display_name": "Python 3 (ipykernel)",
   "language": "python",
   "name": "python3"
  },
  "language_info": {
   "codemirror_mode": {
    "name": "ipython",
    "version": 3
   },
   "file_extension": ".py",
   "mimetype": "text/x-python",
   "name": "python",
   "nbconvert_exporter": "python",
   "pygments_lexer": "ipython3",
   "version": "3.10.4"
  }
 },
 "nbformat": 4,
 "nbformat_minor": 5
}
