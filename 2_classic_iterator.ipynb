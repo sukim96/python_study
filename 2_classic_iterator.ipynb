{
 "cells": [
  {
   "cell_type": "markdown",
   "id": "d3dbff81-66c1-4a77-9396-f8792f4a1f6c",
   "metadata": {},
   "source": [
    "# Classic Iterator\n",
    "\n",
    "고전적인 iterator는 다음 과정으로 생성해서 사용한다.\n",
    "1. 반복형(Iterable)에서 `__iter__` 메소드를 만들어서 iterator를 반환한다.\n",
    "2. iterator에서 next 메소드를 만들어서 iteration을 실행한다.\n",
    "3. iterator에서도 `__iter__` 메소드를 만들어서 자기 자신을 반환한다."
   ]
  },
  {
   "cell_type": "code",
   "execution_count": 6,
   "id": "31bbe5ba-c44f-4792-b20c-40771228e4fc",
   "metadata": {},
   "outputs": [],
   "source": [
    "import re\n",
    "import reprlib\n",
    "\n",
    "RE_WORD = re.compile('\\w+')\n",
    "\n",
    "class Sentence:\n",
    "    def __init__(self, text):\n",
    "        self.text = text\n",
    "        self.words = RE_WORD.findall(text)\n",
    "    \n",
    "    def __repr__(self):\n",
    "        return f'Sentence {reprlib.repr(self.text)}'\n",
    "    \n",
    "    def __iter__(self):\n",
    "        return SentenceIterator(self.words)\n",
    "\n",
    "class SentenceIterator:\n",
    "    def __init__(self, words):\n",
    "        self.words = words\n",
    "        self.index = 0\n",
    "    \n",
    "    def __next__(self):\n",
    "        try:\n",
    "            word = self.words[self.index]\n",
    "        except IndexError:\n",
    "            raise StopIteration()\n",
    "            \n",
    "        self.index += 1\n",
    "        \n",
    "        return word\n",
    "    \n",
    "    def __iter__(self):\n",
    "        return self"
   ]
  },
  {
   "cell_type": "code",
   "execution_count": 7,
   "id": "e81f4e89-839c-4d93-9f07-af691862576e",
   "metadata": {},
   "outputs": [
    {
     "name": "stdout",
     "output_type": "stream",
     "text": [
      "Hello\n",
      "from\n",
      "the\n",
      "outside\n"
     ]
    }
   ],
   "source": [
    "s = Sentence(\"Hello from the outside!\")\n",
    "for word in s:\n",
    "    print(word)"
   ]
  },
  {
   "cell_type": "markdown",
   "id": "dff9a5dd-4be7-4021-a3b3-8bcb9036d1cf",
   "metadata": {},
   "source": [
    "## Iterable을 Iterator로 만들기?\n",
    "Iterator 또한 iterable한데, 애초에 반복형을 만들 때 iterator로 만들어버리면 좋지 않을까?  \n",
    "ex) Sentence 객체 안에서 `__next__` 메소드를 생성하고 `__iter__` 메소드가 self를 리턴한다면 어떨까?\n",
    "\n",
    ": 좋지 않은 방법이다!  \n",
    "(독립적인 iterator가 생성되지 않아서 다중 반복이 지원되지 않는다.)\n",
    "\n",
    "다중 반복: 한 객체에서 여러 독립적인 반복자 사용"
   ]
  },
  {
   "cell_type": "code",
   "execution_count": 3,
   "id": "d4bdc206-9fb4-4405-84b2-1b6b37634444",
   "metadata": {},
   "outputs": [
    {
     "name": "stdout",
     "output_type": "stream",
     "text": [
      "Hello\n",
      "from\n",
      "Hello\n"
     ]
    }
   ],
   "source": [
    "s = Sentence(\"Hello from the outside!\")\n",
    "it1 = iter(s)\n",
    "it2 = iter(s)\n",
    "print(next(it1))\n",
    "print(next(it1))\n",
    "print(next(it2))"
   ]
  },
  {
   "cell_type": "code",
   "execution_count": 4,
   "id": "a5fd7489-60f1-4830-a4c0-9d1dab6fece5",
   "metadata": {},
   "outputs": [],
   "source": [
    "import re\n",
    "import reprlib\n",
    "\n",
    "RE_WORD = re.compile('\\w+')\n",
    "\n",
    "class IterSentence:\n",
    "    def __init__(self, text):\n",
    "        self.text = text\n",
    "        self.words = RE_WORD.findall(text)\n",
    "        self.index = 0\n",
    "    \n",
    "    def __repr__(self):\n",
    "        return f'Sentence {reprlib.repr(self.text)}'\n",
    "\n",
    "    def __next__(self):\n",
    "        try:\n",
    "            word = self.words[self.index]\n",
    "        except IndexError:\n",
    "            raise StopIteration()\n",
    "            \n",
    "        self.index += 1\n",
    "        \n",
    "        return word\n",
    "    \n",
    "    def __iter__(self):\n",
    "        return self"
   ]
  },
  {
   "cell_type": "code",
   "execution_count": 5,
   "id": "4abd9380-a690-4f1c-a58d-16764f21aedd",
   "metadata": {},
   "outputs": [
    {
     "name": "stdout",
     "output_type": "stream",
     "text": [
      "Hello\n",
      "from\n",
      "the\n",
      "140134855544784\n",
      "140134855544784\n",
      "True\n"
     ]
    }
   ],
   "source": [
    "s = IterSentence(\"Hello from the outside!\")\n",
    "it1 = iter(s)\n",
    "it2 = iter(s)\n",
    "print(next(it1))\n",
    "print(next(it1))\n",
    "print(next(it2))\n",
    "\n",
    "print(id(it1))\n",
    "print(id(it2))\n",
    "print(id(it1) == id(it2))"
   ]
  },
  {
   "cell_type": "code",
   "execution_count": null,
   "id": "655e0c2e-164a-4d71-b98e-f62f0d7dac98",
   "metadata": {},
   "outputs": [],
   "source": []
  }
 ],
 "metadata": {
  "kernelspec": {
   "display_name": "Python 3 (ipykernel)",
   "language": "python",
   "name": "python3"
  },
  "language_info": {
   "codemirror_mode": {
    "name": "ipython",
    "version": 3
   },
   "file_extension": ".py",
   "mimetype": "text/x-python",
   "name": "python",
   "nbconvert_exporter": "python",
   "pygments_lexer": "ipython3",
   "version": "3.8.13"
  }
 },
 "nbformat": 4,
 "nbformat_minor": 5
}
