{
 "cells": [
  {
   "cell_type": "markdown",
   "id": "a1ef8763-8701-4e61-9254-e8c02479bed8",
   "metadata": {},
   "source": [
    "# Itertools\n",
    "\n",
    "제너레이터를 사용해 구현된 iteration 관련 많은 함수들이 내장되어 있다."
   ]
  },
  {
   "cell_type": "markdown",
   "id": "985ff8cc-739d-4755-bada-46dbbe0145e7",
   "metadata": {
    "tags": []
   },
   "source": [
    "### 필터링 제너레이터 함수\n",
    "- `filter(func, it)`: func가 참인 항목들 생성\n",
    "- `itertools.filterfalse(func, it)`: func가 거짓인 항목들 생성\n",
    "- `itertools.takewhile(func, iterable)`: func가 참인 동안 iteration 실행\n",
    "- `itertools.dropwhile(func, it)`: func가 참인 동안은 무시(drop) / 이후부터 iteration 실행\n",
    "- `itertools.compress(it, selector_it)`: parallel reduce (selector_it 가 참이면 it에서 생성)\n",
    "- `itertools.islice(it, stop)`: slicing (s[:stop]) (lazy evaluation 으로 구현됨)\n",
    "- `itertools.islice(it, start, stop, step=1)`: slicing (s[start:stop:step])"
   ]
  },
  {
   "cell_type": "code",
   "execution_count": null,
   "id": "e30824ad-21c0-48b3-bf4d-a26e0b6b1d7d",
   "metadata": {},
   "outputs": [],
   "source": [
    "def vowel(c):\n",
    "    return c.lower() in 'aeiou'\n",
    "\n",
    "s = 'Aardvark'\n",
    "print(f\"Sentence:\\t\\t\\t {s}\")\n",
    "print(f\"Target:\\t\\t\\t\\t Vowel\\n\")\n",
    "\n",
    "print(\"filter:\\t\\t\\t\\t\", list(filter(vowel, s)))\n",
    "import itertools\n",
    "print(\"itertools.filterfalse:\\t\\t\", list(itertools.filterfalse(vowel, s)))\n",
    "\n",
    "print(\"\\nitertools.takewhile:\\t\\t\", list(itertools.takewhile(vowel, s)))\n",
    "print(\"itertools.dropwhile:\\t\\t\", list(itertools.dropwhile(vowel, s)))\n",
    "\n",
    "print(\"\\nitertools.compress:\\t\\t\", list(itertools.compress(s, [1, 0, 1, 1, 0, 1])))\n",
    "print(\"itertools.islice[4]:\\t\\t\", list(itertools.islice(s, 4)))\n",
    "print(\"itertools.islice[4, 7]:\\t\\t\", list(itertools.islice(s, 4, 7)))\n",
    "print(\"itertools.islice[1, 7, 2]:\\t\", list(itertools.islice(s, 1, 7, 2)))"
   ]
  },
  {
   "cell_type": "markdown",
   "id": "1b02dcc0-20ab-448e-abed-ad5246fb61a2",
   "metadata": {
    "tags": []
   },
   "source": [
    "### 매핑 제너레이터 함수\n",
    "- `itertools.accumulate(it, [func = sum])`: 누적 합계 생성 (func 제공 시 func으로 누적)\n",
    "- `enumerate(it, start=0)`: (start부터 시작하여) (index, item) 형태의 튜플 생성\n",
    "- `map(func, it1[, it2, ..., itN])`: 각 iteration에 func 적용한 결과 생성 (it N개: 병렬 적용)\n",
    "- `itertools.starmap(func, it)`: it의 각 항목에 func 적용하여 생성"
   ]
  },
  {
   "cell_type": "code",
   "execution_count": null,
   "id": "eb8e30c5-c941-43d7-baef-4dd187cc7272",
   "metadata": {},
   "outputs": [],
   "source": [
    "import itertools\n",
    "print(\"itertools.accumulate:\")\n",
    "print(list(itertools.accumulate('abc')))\n",
    "print(list(itertools.accumulate([1, 2, 3])))\n",
    "print(list(itertools.accumulate([1, 2, 3], lambda x, y: x * y)))\n",
    "\n",
    "print(\"\\nenumerate('Hello'):\")\n",
    "print(list(enumerate('Hello')))\n",
    "\n",
    "func = lambda x1, x2, x3: x1 + x2 + x3\n",
    "print(\"\\nfunc: [y = x1 + x2 + x3]\")\n",
    "\n",
    "print(\"\\nMapping:\")\n",
    "print(list(map(func, [1, 2, 3, 4], [1, 1, 1, 1], [1, 3, 5, 7])))\n",
    "print(\"\\nitertools.starmap:\")\n",
    "print(list(itertools.starmap(func, [[1, 1, 1], [1, 2, 3]])))"
   ]
  },
  {
   "cell_type": "markdown",
   "id": "1076659f-e466-430f-9ad0-8e7912d93d6b",
   "metadata": {},
   "source": [
    "### 병합 제너레이터 함수\n",
    "- `itertools.chain(it1, ..., itN)`: it1, it2, ..., itN을 순서대로 이어붙임 (it1부터 다 한 후 it2, ...)\n",
    "- `itertools.chain.from_iterable(it)`: it 내부에 iterable들을 전부 생성 (ex) iterator의 list 등)\n",
    "- `itertools.product(it1, ..., itN, repeat=1)`: cartesian product 계산 (N차원 튜플 생성)\n",
    "- `zip(it1, ..., itN)`: 각 it의 항목을 병렬로 조합한 N차원 튜플 생성\n",
    "- `zip_longest(it1, ..., itN, fillvalue=None)`: zip과 동일, 가장 긴 iteration에 맞춰 생성 (iteration이 끝나면 fillvalue로 채워가며 생성)"
   ]
  },
  {
   "cell_type": "code",
   "execution_count": null,
   "id": "f7e63474-b372-4da5-8ec2-d7fec950a6d9",
   "metadata": {},
   "outputs": [],
   "source": [
    "import itertools\n",
    "print(\"chain:\")\n",
    "print(list(itertools.chain('ABC', ['DEF', 'GHI'])))\n",
    "print(list(itertools.chain.from_iterable(['ABC', ['DEF', 'GHI']])))\n",
    "\n",
    "print(\"\\nproduct:\")\n",
    "print(list(itertools.product([1,4], [2,5], [3,6])))\n",
    "\n",
    "print(\"\\nzip:\")\n",
    "print(list(zip('ABC', [1, 2, 3])))\n",
    "\n",
    "print(\"\\nzip_longest:\")\n",
    "print(list(itertools.zip_longest('ABCD', [1, 2], fillvalue=0)))"
   ]
  },
  {
   "cell_type": "markdown",
   "id": "1cc8b213-7a4e-496e-a0a4-1568a0800199",
   "metadata": {},
   "source": [
    "### 확장 제너레이터 함수\n",
    "- `itertools.permutations(it, out_len=None)`: permutation($_nP_{out\\_len}$) (out_len이 없으면 len(it)가 default)\n",
    "- `itertools.combinations(it, out_len)`: combination($_nC_{out\\_len}$)\n",
    "- `itertools.combinations_with_replacement(it, out_len)`: combination (자기 자신 조합도 포함)\n",
    "- `itertools.count(start=0, step=1)`: 카운터 생성 (계속 증가)\n",
    "- `itertools.repeat(item, [times])`: item을 무한히 반복해서 생성 (times가 있으면 times만큼 생성)\n",
    "- `itertools.cycle(it)`: iteration 끝나면 처음부터 다시 iteration (무한 반복) (계산과정에서 사본을 저장해둔다.)"
   ]
  },
  {
   "cell_type": "code",
   "execution_count": null,
   "id": "ef21a899-e44a-43be-a4b9-87a8c3175538",
   "metadata": {},
   "outputs": [],
   "source": [
    "import itertools\n",
    "print(\"permutation, combination:\")\n",
    "print(list(itertools.permutations([1, 2, 3], 2)))\n",
    "print(list(itertools.combinations([1, 2, 3], 2)))\n",
    "print(list(itertools.combinations_with_replacement([1, 2, 3], 2)))\n",
    "\n",
    "print(\"\\ncounter:\")\n",
    "counter = itertools.count()\n",
    "print([next(counter) for i in range(10)])\n",
    "\n",
    "print(\"\\nrepeat:\")\n",
    "repeat = itertools.repeat(\"hello\")\n",
    "print([next(repeat) for i in range(10)])\n",
    "\n",
    "print(\"\\ncycle:\")\n",
    "cycle = itertools.cycle([1, 2])\n",
    "print([next(cycle) for i in range(10)])"
   ]
  },
  {
   "cell_type": "markdown",
   "id": "c54be16c-a4f1-4509-85f6-fcf08e4e251e",
   "metadata": {},
   "source": [
    "### 재배치 제너레이터 함수\n",
    "- `itertools.groupby(it, key=None)`: it 내부의 원소를 key 기준에 따라 그루핑 (key=None 이면 값으로 그루핑)\n",
    "- `reversed(seq)`: seq(iterable)을 역순으로 조회하는 iterator\n",
    "- `itertools.tee(it, n=2)`: n개의 제너레이터로 구성된 튜플 생성 (각 제너레이터는 it를 독립적으로 생성)"
   ]
  },
  {
   "cell_type": "code",
   "execution_count": null,
   "id": "378a5fe6-fa51-48e4-badc-d483afd92793",
   "metadata": {},
   "outputs": [],
   "source": [
    "import itertools\n",
    "a = ['AAA', 'BBB', 'CC', 'DD']\n",
    "print(list(itertools.groupby(a)))\n",
    "\n",
    "print(\"\\nGroup by None:\")\n",
    "for word, group in itertools.groupby(a):\n",
    "    print(word, '->', list(group))\n",
    "\n",
    "\n",
    "print(\"\\nGroup by length:\")\n",
    "\n",
    "for length, group in itertools.groupby(a, len):\n",
    "    print(length, '->', list(group))\n",
    "    \n",
    "\n",
    "it = reversed([1, 2, 3])\n",
    "print(\"\\nReversed:\", list(it))\n",
    "\n",
    "gens = itertools.tee([1, 2, 3, 4], 2)\n",
    "print(\"\\nGenerators:\", gens)\n",
    "for g in gens:\n",
    "    print(list(g))"
   ]
  },
  {
   "cell_type": "code",
   "execution_count": null,
   "id": "c88ecd75-f6f1-41bf-8cb6-062f6bfe3476",
   "metadata": {},
   "outputs": [],
   "source": []
  }
 ],
 "metadata": {
  "kernelspec": {
   "display_name": "Python 3 (ipykernel)",
   "language": "python",
   "name": "python3"
  },
  "language_info": {
   "codemirror_mode": {
    "name": "ipython",
    "version": 3
   },
   "file_extension": ".py",
   "mimetype": "text/x-python",
   "name": "python",
   "nbconvert_exporter": "python",
   "pygments_lexer": "ipython3",
   "version": "3.8.13"
  }
 },
 "nbformat": 4,
 "nbformat_minor": 5
}
