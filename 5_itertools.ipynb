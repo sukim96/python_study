{
 "cells": [
  {
   "cell_type": "markdown",
   "id": "a1ef8763-8701-4e61-9254-e8c02479bed8",
   "metadata": {},
   "source": [
    "# Itertools\n",
    "\n",
    "제너레이터를 사용해 구현된 iteration 관련 많은 함수들이 내장되어 있다.\n",
    "- `itertools.count(start=0, step=1)`: AP\n",
    "- `itertools.takewhile(func, iterable)`: func가 참인 동안 iteration 실행"
   ]
  },
  {
   "cell_type": "code",
   "execution_count": 1,
   "id": "743f47c6-52fd-4e78-8059-9ef186289e4f",
   "metadata": {},
   "outputs": [
    {
     "name": "stdout",
     "output_type": "stream",
     "text": [
      "1\n",
      "1.5\n",
      "2.0\n"
     ]
    },
    {
     "data": {
      "text/plain": [
       "[1, 1.5, 2.0, 2.5]"
      ]
     },
     "execution_count": 1,
     "metadata": {},
     "output_type": "execute_result"
    }
   ],
   "source": [
    "import itertools\n",
    "gen = itertools.count(1, .5)\n",
    "for i in range(3):\n",
    "    print(next(gen))\n",
    "\n",
    "gen = itertools.takewhile(lambda n: n < 3, itertools.count(1, .5))\n",
    "list(gen)"
   ]
  },
  {
   "cell_type": "markdown",
   "id": "985ff8cc-739d-4755-bada-46dbbe0145e7",
   "metadata": {
    "tags": []
   },
   "source": [
    "### 필터링 제너레이터 함수\n",
    "- `filter(func, it)`: func가 참인 항목들 생성\n",
    "- `itertools.filterfalse(func, it)`: func가 거짓인 항목들 생성\n",
    "- `itertools.takewhile(func, iterable)`: func가 참인 동안 iteration 실행\n",
    "- `itertools.dropwhile(func, it)`: func가 참인 동안은 무시(drop) / 이후부터 iteration 실행\n",
    "- `itertools.compress(it, selector_it)`: parallel reduce (selector_it 가 참이면 it에서 생성)\n",
    "- `itertools.islice(it, stop)`: slicing (s[:stop]) (lazy evaluation 으로 구현됨)\n",
    "- `itertools.islice(it, start, stop, step=1)`: slicing (s[start:stop:step])"
   ]
  },
  {
   "cell_type": "code",
   "execution_count": 2,
   "id": "e30824ad-21c0-48b3-bf4d-a26e0b6b1d7d",
   "metadata": {},
   "outputs": [
    {
     "name": "stdout",
     "output_type": "stream",
     "text": [
      "Sentence:\t\t\t Aardvark\n",
      "\n",
      "filter:\t\t\t\t ['A', 'a', 'a']\n",
      "itertools.filterfalse:\t\t ['r', 'd', 'v', 'r', 'k']\n",
      "\n",
      "itertools.takewhile:\t\t ['A', 'a']\n",
      "itertools.dropwhile:\t\t ['r', 'd', 'v', 'a', 'r', 'k']\n",
      "\n",
      "itertools.compress:\t\t ['A', 'r', 'd', 'a']\n",
      "itertools.islice[4]:\t\t ['A', 'a', 'r', 'd']\n",
      "itertools.islice[4, 7]:\t\t ['v', 'a', 'r']\n",
      "itertools.islice[1, 7, 2]:\t ['a', 'd', 'a']\n"
     ]
    }
   ],
   "source": [
    "def vowel(c):\n",
    "    return c.lower() in 'aeiou'\n",
    "\n",
    "s = 'Aardvark'\n",
    "print(f\"Sentence:\\t\\t\\t {s}\\n\")\n",
    "\n",
    "print(\"filter:\\t\\t\\t\\t\", list(filter(vowel, s)))\n",
    "import itertools\n",
    "print(\"itertools.filterfalse:\\t\\t\", list(itertools.filterfalse(vowel, s)))\n",
    "\n",
    "print(\"\\nitertools.takewhile:\\t\\t\", list(itertools.takewhile(vowel, s)))\n",
    "print(\"itertools.dropwhile:\\t\\t\", list(itertools.dropwhile(vowel, s)))\n",
    "\n",
    "print(\"\\nitertools.compress:\\t\\t\", list(itertools.compress(s, [1, 0, 1, 1, 0, 1])))\n",
    "print(\"itertools.islice[4]:\\t\\t\", list(itertools.islice(s, 4)))\n",
    "print(\"itertools.islice[4, 7]:\\t\\t\", list(itertools.islice(s, 4, 7)))\n",
    "print(\"itertools.islice[1, 7, 2]:\\t\", list(itertools.islice(s, 1, 7, 2)))"
   ]
  },
  {
   "cell_type": "markdown",
   "id": "1b02dcc0-20ab-448e-abed-ad5246fb61a2",
   "metadata": {
    "tags": []
   },
   "source": [
    "### 매핑 제너레이터 함수\n",
    "- `itertools.accumulate(it, [func = sum])`: 누적 합계 생성 (func 제공 시 func으로 누적)\n",
    "- `enumerate(it, start=0)`: (start부터 시작하여) (index, item) 형태의 튜플 생성\n",
    "- `map(func, it1[, it2, ..., itN])`: 각 iteration에 func 적용한 결과 생성 (it N개: 병렬 적용)\n",
    "- `itertools.starmap(func, it)`: it의 각 항목에 func 적용하여 생성"
   ]
  },
  {
   "cell_type": "markdown",
   "id": "1076659f-e466-430f-9ad0-8e7912d93d6b",
   "metadata": {},
   "source": [
    "### 병합 제너레이터 함수\n",
    "- `zip(it1, ..., itN)`"
   ]
  },
  {
   "cell_type": "markdown",
   "id": "1cc8b213-7a4e-496e-a0a4-1568a0800199",
   "metadata": {},
   "source": [
    "### 확장 제너레이터 함수\n",
    "- `itertools.combinations(it, out_len)`\n",
    "- `itertools.repeat(it, [times])`\n",
    "- `itertools.count(start=0, step=1)`: 카운터 생성 (계속 증가)"
   ]
  },
  {
   "cell_type": "markdown",
   "id": "c54be16c-a4f1-4509-85f6-fcf08e4e251e",
   "metadata": {},
   "source": [
    "### 재배치 제너레이터 함수\n",
    "- `itertools.groupby(it, key=None)`\n",
    "- `reversed(seq)`\n",
    "- `itertools.tee(it, n=2)`"
   ]
  }
 ],
 "metadata": {
  "kernelspec": {
   "display_name": "Python 3 (ipykernel)",
   "language": "python",
   "name": "python3"
  },
  "language_info": {
   "codemirror_mode": {
    "name": "ipython",
    "version": 3
   },
   "file_extension": ".py",
   "mimetype": "text/x-python",
   "name": "python",
   "nbconvert_exporter": "python",
   "pygments_lexer": "ipython3",
   "version": "3.8.13"
  }
 },
 "nbformat": 4,
 "nbformat_minor": 5
}
