{
 "cells": [
  {
   "cell_type": "markdown",
   "id": "115adbd0-f060-46d6-b63a-e6d782177c1d",
   "metadata": {},
   "source": [
    "# Iteration Overview\n",
    "\n",
    "반복형(=Iterable Type)은 반복 가능한 객체 형태이고, 반복자(=Iterator)는 그 반복을 실행하는 객체이다.  \n",
    "파이썬에서 for loop 등을 이용해 반복을 실행하게 되는데, 이것은 반복자를 이용하여 구현되어 있다.\n",
    "\n",
    "ex) Sentence: 단어 시퀀스 구현"
   ]
  },
  {
   "cell_type": "code",
   "execution_count": 1,
   "id": "6956a80d-06fa-4491-9e3d-bbc887cc0d5c",
   "metadata": {},
   "outputs": [],
   "source": [
    "import re\n",
    "import reprlib\n",
    "\n",
    "RE_WORD = re.compile('\\w+')\n",
    "\n",
    "class Sentence:\n",
    "    def __init__(self, text):\n",
    "        self.text = text\n",
    "        self.words = RE_WORD.findall(text)\n",
    "    \n",
    "    def __getitem__(self, idx):\n",
    "        return self.words[idx]\n",
    "    \n",
    "    def __len__(self):\n",
    "        return len(self.words)\n",
    "    \n",
    "    def __repr__(self):\n",
    "        return f'Sentence {reprlib.repr(self.text)}'"
   ]
  },
  {
   "cell_type": "code",
   "execution_count": 2,
   "id": "4aa98145-62ff-4f49-a46d-592ffe2c19b6",
   "metadata": {},
   "outputs": [
    {
     "name": "stdout",
     "output_type": "stream",
     "text": [
      "Sentence '\"The time ha... Walrus said,'\n",
      "The\n",
      "time\n",
      "has\n",
      "come\n",
      "the\n",
      "Walrus\n",
      "said\n",
      "['The', 'time', 'has', 'come', 'the', 'Walrus', 'said']\n"
     ]
    }
   ],
   "source": [
    "s = Sentence('\"The time has come,\" the Walrus said,')\n",
    "print(s)\n",
    "for word in s:\n",
    "    print(word)\n",
    "print(list(s))"
   ]
  },
  {
   "cell_type": "markdown",
   "id": "25e8a563-c03d-45e5-8f58-ad82269e45b4",
   "metadata": {},
   "source": [
    "  \n",
    "여기서 iteration이 가능한 이유는 iter() 함수가 객체에 기본 내장되어 있기 때문이다.\n",
    "\n",
    "### iter(object) 작동 순서\n",
    "1) `__iter__` method 있으면 실행\n",
    "2) 없으면 `__getitem__` method의 index 0 부터 시작하는 iterator 자동 생성\n",
    "3) 이마저도 실패하면 TypeError"
   ]
  },
  {
   "cell_type": "code",
   "execution_count": 3,
   "id": "409f971d-803e-474f-ad7d-b28167518e1d",
   "metadata": {},
   "outputs": [
    {
     "data": {
      "text/plain": [
       "True"
      ]
     },
     "execution_count": 3,
     "metadata": {},
     "output_type": "execute_result"
    }
   ],
   "source": [
    "class Foo:\n",
    "    def __iter__(self):\n",
    "        pass\n",
    "\n",
    "from collections import abc\n",
    "f = Foo()\n",
    "isinstance(f, abc.Iterable)"
   ]
  },
  {
   "cell_type": "code",
   "execution_count": 4,
   "id": "e49150e6-8319-469a-acbb-f92c41a49ac0",
   "metadata": {},
   "outputs": [
    {
     "name": "stdout",
     "output_type": "stream",
     "text": [
      "False\n"
     ]
    }
   ],
   "source": [
    "s = Sentence('hi')\n",
    "print(isinstance(s, abc.Iterable))"
   ]
  },
  {
   "cell_type": "code",
   "execution_count": 5,
   "id": "fc43547b-e528-4bf1-ac06-d4b061a3d612",
   "metadata": {},
   "outputs": [
    {
     "name": "stdout",
     "output_type": "stream",
     "text": [
      "A\n",
      "B\n",
      "C\n"
     ]
    }
   ],
   "source": [
    "s = 'ABC'\n",
    "for char in s:\n",
    "    print(char)"
   ]
  },
  {
   "cell_type": "code",
   "execution_count": 6,
   "id": "808304fe-2c03-4887-a30d-4fb6a2f39d72",
   "metadata": {},
   "outputs": [
    {
     "name": "stdout",
     "output_type": "stream",
     "text": [
      "A\n",
      "B\n",
      "C\n"
     ]
    }
   ],
   "source": [
    "it = iter(s)\n",
    "while True:\n",
    "    try:\n",
    "        print(next(it))\n",
    "    except StopIteration:\n",
    "        del it\n",
    "        break"
   ]
  },
  {
   "cell_type": "markdown",
   "id": "86d0a10a-9f3f-4871-b554-622af593683c",
   "metadata": {},
   "source": [
    "\n",
    "abc 모듈에서는 Iterator의 `__iter__` 메소드를 'return self' 만으로 구현했다."
   ]
  },
  {
   "cell_type": "code",
   "execution_count": 7,
   "id": "f9cf384a-c029-4de8-9bed-c10d1aaf37a7",
   "metadata": {},
   "outputs": [
    {
     "name": "stdout",
     "output_type": "stream",
     "text": [
      "140492210180928\n",
      "140492210180928\n",
      "A\n",
      "B\n",
      "C\n"
     ]
    }
   ],
   "source": [
    "s = \"ABC\"\n",
    "it = iter(s)\n",
    "it2 = iter(it)\n",
    "print(id(it))\n",
    "print(id(it2))\n",
    "      \n",
    "print(next(it2))\n",
    "print(next(it))\n",
    "print(next(it2))"
   ]
  },
  {
   "cell_type": "code",
   "execution_count": 8,
   "id": "2b1ef15c-21f5-4abe-b498-502424422c38",
   "metadata": {},
   "outputs": [
    {
     "name": "stdout",
     "output_type": "stream",
     "text": [
      "[]\n"
     ]
    }
   ],
   "source": [
    "print(list(it2))"
   ]
  },
  {
   "cell_type": "markdown",
   "id": "d83dec1c-769d-4192-90d7-ed5424abe41e",
   "metadata": {},
   "source": [
    "iterator를 list로 출력하면 iterator 안의 모든 원소가 반환된다. : generator처럼 작동한다."
   ]
  },
  {
   "cell_type": "code",
   "execution_count": 9,
   "id": "6218e1f6-fa1e-479d-b84a-4ac59c7cb90d",
   "metadata": {},
   "outputs": [
    {
     "name": "stdout",
     "output_type": "stream",
     "text": [
      "['A', 'B', 'C']\n"
     ]
    },
    {
     "ename": "StopIteration",
     "evalue": "",
     "output_type": "error",
     "traceback": [
      "\u001b[0;31m---------------------------------------------------------------------------\u001b[0m",
      "\u001b[0;31mStopIteration\u001b[0m                             Traceback (most recent call last)",
      "Input \u001b[0;32mIn [9]\u001b[0m, in \u001b[0;36m<cell line: 4>\u001b[0;34m()\u001b[0m\n\u001b[1;32m      2\u001b[0m \u001b[38;5;28mprint\u001b[39m(\u001b[38;5;28mlist\u001b[39m(it))\n\u001b[1;32m      3\u001b[0m \u001b[38;5;66;03m# list 출력 이후 iteration은 끝까지 도달\u001b[39;00m\n\u001b[0;32m----> 4\u001b[0m \u001b[38;5;28mprint\u001b[39m(\u001b[38;5;28;43mnext\u001b[39;49m\u001b[43m(\u001b[49m\u001b[43mit\u001b[49m\u001b[43m)\u001b[49m)\n",
      "\u001b[0;31mStopIteration\u001b[0m: "
     ]
    }
   ],
   "source": [
    "it = iter(s)\n",
    "print(list(it))\n",
    "# list 출력 이후 iteration은 끝까지 도달\n",
    "print(next(it))"
   ]
  },
  {
   "cell_type": "code",
   "execution_count": null,
   "id": "bbff3ea1-f0df-49b7-8433-597d15a76b2f",
   "metadata": {},
   "outputs": [],
   "source": []
  }
 ],
 "metadata": {
  "kernelspec": {
   "display_name": "Python 3 (ipykernel)",
   "language": "python",
   "name": "python3"
  },
  "language_info": {
   "codemirror_mode": {
    "name": "ipython",
    "version": 3
   },
   "file_extension": ".py",
   "mimetype": "text/x-python",
   "name": "python",
   "nbconvert_exporter": "python",
   "pygments_lexer": "ipython3",
   "version": "3.8.13"
  }
 },
 "nbformat": 4,
 "nbformat_minor": 5
}
